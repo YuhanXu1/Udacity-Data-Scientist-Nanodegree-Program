{
 "cells": [
  {
   "cell_type": "markdown",
   "metadata": {},
   "source": [
    "## Session prep"
   ]
  },
  {
   "cell_type": "code",
   "execution_count": 1,
   "metadata": {},
   "outputs": [],
   "source": [
    "import pandas as pd\n",
    "import numpy as np\n",
    "import matplotlib.pyplot as plt"
   ]
  },
  {
   "cell_type": "code",
   "execution_count": 2,
   "metadata": {},
   "outputs": [
    {
     "data": {
      "text/html": [
       "<div>\n",
       "<style scoped>\n",
       "    .dataframe tbody tr th:only-of-type {\n",
       "        vertical-align: middle;\n",
       "    }\n",
       "\n",
       "    .dataframe tbody tr th {\n",
       "        vertical-align: top;\n",
       "    }\n",
       "\n",
       "    .dataframe thead th {\n",
       "        text-align: right;\n",
       "    }\n",
       "</style>\n",
       "<table border=\"1\" class=\"dataframe\">\n",
       "  <thead>\n",
       "    <tr style=\"text-align: right;\">\n",
       "      <th></th>\n",
       "      <th>Respondent</th>\n",
       "      <th>MainBranch</th>\n",
       "      <th>Hobbyist</th>\n",
       "      <th>OpenSourcer</th>\n",
       "      <th>OpenSource</th>\n",
       "      <th>Employment</th>\n",
       "      <th>Country</th>\n",
       "      <th>Student</th>\n",
       "      <th>EdLevel</th>\n",
       "      <th>UndergradMajor</th>\n",
       "      <th>...</th>\n",
       "      <th>WelcomeChange</th>\n",
       "      <th>SONewContent</th>\n",
       "      <th>Age</th>\n",
       "      <th>Gender</th>\n",
       "      <th>Trans</th>\n",
       "      <th>Sexuality</th>\n",
       "      <th>Ethnicity</th>\n",
       "      <th>Dependents</th>\n",
       "      <th>SurveyLength</th>\n",
       "      <th>SurveyEase</th>\n",
       "    </tr>\n",
       "  </thead>\n",
       "  <tbody>\n",
       "    <tr>\n",
       "      <td>0</td>\n",
       "      <td>1</td>\n",
       "      <td>I am a student who is learning to code</td>\n",
       "      <td>Yes</td>\n",
       "      <td>Never</td>\n",
       "      <td>The quality of OSS and closed source software ...</td>\n",
       "      <td>Not employed, and not looking for work</td>\n",
       "      <td>United Kingdom</td>\n",
       "      <td>No</td>\n",
       "      <td>Primary/elementary school</td>\n",
       "      <td>NaN</td>\n",
       "      <td>...</td>\n",
       "      <td>Just as welcome now as I felt last year</td>\n",
       "      <td>Tech articles written by other developers;Indu...</td>\n",
       "      <td>14.0</td>\n",
       "      <td>Man</td>\n",
       "      <td>No</td>\n",
       "      <td>Straight / Heterosexual</td>\n",
       "      <td>NaN</td>\n",
       "      <td>No</td>\n",
       "      <td>Appropriate in length</td>\n",
       "      <td>Neither easy nor difficult</td>\n",
       "    </tr>\n",
       "    <tr>\n",
       "      <td>1</td>\n",
       "      <td>2</td>\n",
       "      <td>I am a student who is learning to code</td>\n",
       "      <td>No</td>\n",
       "      <td>Less than once per year</td>\n",
       "      <td>The quality of OSS and closed source software ...</td>\n",
       "      <td>Not employed, but looking for work</td>\n",
       "      <td>Bosnia and Herzegovina</td>\n",
       "      <td>Yes, full-time</td>\n",
       "      <td>Secondary school (e.g. American high school, G...</td>\n",
       "      <td>NaN</td>\n",
       "      <td>...</td>\n",
       "      <td>Just as welcome now as I felt last year</td>\n",
       "      <td>Tech articles written by other developers;Indu...</td>\n",
       "      <td>19.0</td>\n",
       "      <td>Man</td>\n",
       "      <td>No</td>\n",
       "      <td>Straight / Heterosexual</td>\n",
       "      <td>NaN</td>\n",
       "      <td>No</td>\n",
       "      <td>Appropriate in length</td>\n",
       "      <td>Neither easy nor difficult</td>\n",
       "    </tr>\n",
       "    <tr>\n",
       "      <td>2</td>\n",
       "      <td>3</td>\n",
       "      <td>I am not primarily a developer, but I write co...</td>\n",
       "      <td>Yes</td>\n",
       "      <td>Never</td>\n",
       "      <td>The quality of OSS and closed source software ...</td>\n",
       "      <td>Employed full-time</td>\n",
       "      <td>Thailand</td>\n",
       "      <td>No</td>\n",
       "      <td>Bachelor’s degree (BA, BS, B.Eng., etc.)</td>\n",
       "      <td>Web development or web design</td>\n",
       "      <td>...</td>\n",
       "      <td>Just as welcome now as I felt last year</td>\n",
       "      <td>Tech meetups or events in your area;Courses on...</td>\n",
       "      <td>28.0</td>\n",
       "      <td>Man</td>\n",
       "      <td>No</td>\n",
       "      <td>Straight / Heterosexual</td>\n",
       "      <td>NaN</td>\n",
       "      <td>Yes</td>\n",
       "      <td>Appropriate in length</td>\n",
       "      <td>Neither easy nor difficult</td>\n",
       "    </tr>\n",
       "    <tr>\n",
       "      <td>3</td>\n",
       "      <td>4</td>\n",
       "      <td>I am a developer by profession</td>\n",
       "      <td>No</td>\n",
       "      <td>Never</td>\n",
       "      <td>The quality of OSS and closed source software ...</td>\n",
       "      <td>Employed full-time</td>\n",
       "      <td>United States</td>\n",
       "      <td>No</td>\n",
       "      <td>Bachelor’s degree (BA, BS, B.Eng., etc.)</td>\n",
       "      <td>Computer science, computer engineering, or sof...</td>\n",
       "      <td>...</td>\n",
       "      <td>Just as welcome now as I felt last year</td>\n",
       "      <td>Tech articles written by other developers;Indu...</td>\n",
       "      <td>22.0</td>\n",
       "      <td>Man</td>\n",
       "      <td>No</td>\n",
       "      <td>Straight / Heterosexual</td>\n",
       "      <td>White or of European descent</td>\n",
       "      <td>No</td>\n",
       "      <td>Appropriate in length</td>\n",
       "      <td>Easy</td>\n",
       "    </tr>\n",
       "    <tr>\n",
       "      <td>4</td>\n",
       "      <td>5</td>\n",
       "      <td>I am a developer by profession</td>\n",
       "      <td>Yes</td>\n",
       "      <td>Once a month or more often</td>\n",
       "      <td>OSS is, on average, of HIGHER quality than pro...</td>\n",
       "      <td>Employed full-time</td>\n",
       "      <td>Ukraine</td>\n",
       "      <td>No</td>\n",
       "      <td>Bachelor’s degree (BA, BS, B.Eng., etc.)</td>\n",
       "      <td>Computer science, computer engineering, or sof...</td>\n",
       "      <td>...</td>\n",
       "      <td>Just as welcome now as I felt last year</td>\n",
       "      <td>Tech meetups or events in your area;Courses on...</td>\n",
       "      <td>30.0</td>\n",
       "      <td>Man</td>\n",
       "      <td>No</td>\n",
       "      <td>Straight / Heterosexual</td>\n",
       "      <td>White or of European descent;Multiracial</td>\n",
       "      <td>No</td>\n",
       "      <td>Appropriate in length</td>\n",
       "      <td>Easy</td>\n",
       "    </tr>\n",
       "  </tbody>\n",
       "</table>\n",
       "<p>5 rows × 85 columns</p>\n",
       "</div>"
      ],
      "text/plain": [
       "   Respondent                                         MainBranch Hobbyist  \\\n",
       "0           1             I am a student who is learning to code      Yes   \n",
       "1           2             I am a student who is learning to code       No   \n",
       "2           3  I am not primarily a developer, but I write co...      Yes   \n",
       "3           4                     I am a developer by profession       No   \n",
       "4           5                     I am a developer by profession      Yes   \n",
       "\n",
       "                  OpenSourcer  \\\n",
       "0                       Never   \n",
       "1     Less than once per year   \n",
       "2                       Never   \n",
       "3                       Never   \n",
       "4  Once a month or more often   \n",
       "\n",
       "                                          OpenSource  \\\n",
       "0  The quality of OSS and closed source software ...   \n",
       "1  The quality of OSS and closed source software ...   \n",
       "2  The quality of OSS and closed source software ...   \n",
       "3  The quality of OSS and closed source software ...   \n",
       "4  OSS is, on average, of HIGHER quality than pro...   \n",
       "\n",
       "                               Employment                 Country  \\\n",
       "0  Not employed, and not looking for work          United Kingdom   \n",
       "1      Not employed, but looking for work  Bosnia and Herzegovina   \n",
       "2                      Employed full-time                Thailand   \n",
       "3                      Employed full-time           United States   \n",
       "4                      Employed full-time                 Ukraine   \n",
       "\n",
       "          Student                                            EdLevel  \\\n",
       "0              No                          Primary/elementary school   \n",
       "1  Yes, full-time  Secondary school (e.g. American high school, G...   \n",
       "2              No           Bachelor’s degree (BA, BS, B.Eng., etc.)   \n",
       "3              No           Bachelor’s degree (BA, BS, B.Eng., etc.)   \n",
       "4              No           Bachelor’s degree (BA, BS, B.Eng., etc.)   \n",
       "\n",
       "                                      UndergradMajor  ...  \\\n",
       "0                                                NaN  ...   \n",
       "1                                                NaN  ...   \n",
       "2                      Web development or web design  ...   \n",
       "3  Computer science, computer engineering, or sof...  ...   \n",
       "4  Computer science, computer engineering, or sof...  ...   \n",
       "\n",
       "                             WelcomeChange  \\\n",
       "0  Just as welcome now as I felt last year   \n",
       "1  Just as welcome now as I felt last year   \n",
       "2  Just as welcome now as I felt last year   \n",
       "3  Just as welcome now as I felt last year   \n",
       "4  Just as welcome now as I felt last year   \n",
       "\n",
       "                                        SONewContent   Age Gender Trans  \\\n",
       "0  Tech articles written by other developers;Indu...  14.0    Man    No   \n",
       "1  Tech articles written by other developers;Indu...  19.0    Man    No   \n",
       "2  Tech meetups or events in your area;Courses on...  28.0    Man    No   \n",
       "3  Tech articles written by other developers;Indu...  22.0    Man    No   \n",
       "4  Tech meetups or events in your area;Courses on...  30.0    Man    No   \n",
       "\n",
       "                 Sexuality                                 Ethnicity  \\\n",
       "0  Straight / Heterosexual                                       NaN   \n",
       "1  Straight / Heterosexual                                       NaN   \n",
       "2  Straight / Heterosexual                                       NaN   \n",
       "3  Straight / Heterosexual              White or of European descent   \n",
       "4  Straight / Heterosexual  White or of European descent;Multiracial   \n",
       "\n",
       "  Dependents           SurveyLength                  SurveyEase  \n",
       "0         No  Appropriate in length  Neither easy nor difficult  \n",
       "1         No  Appropriate in length  Neither easy nor difficult  \n",
       "2        Yes  Appropriate in length  Neither easy nor difficult  \n",
       "3         No  Appropriate in length                        Easy  \n",
       "4         No  Appropriate in length                        Easy  \n",
       "\n",
       "[5 rows x 85 columns]"
      ]
     },
     "execution_count": 2,
     "metadata": {},
     "output_type": "execute_result"
    }
   ],
   "source": [
    "#load the data\n",
    "df = pd.read_csv(\"survey_results_public.csv\")\n",
    "df.head()"
   ]
  },
  {
   "cell_type": "code",
   "execution_count": 3,
   "metadata": {},
   "outputs": [
    {
     "data": {
      "text/plain": [
       "(88883, 85)"
      ]
     },
     "execution_count": 3,
     "metadata": {},
     "output_type": "execute_result"
    }
   ],
   "source": [
    "df.shape"
   ]
  },
  {
   "cell_type": "markdown",
   "metadata": {},
   "source": [
    "# Data Understanding: How many participants are DA/BA or DS?"
   ]
  },
  {
   "cell_type": "code",
   "execution_count": 4,
   "metadata": {},
   "outputs": [
    {
     "data": {
      "text/plain": [
       "array([nan,\n",
       "       'Developer, desktop or enterprise applications;Developer, front-end',\n",
       "       'Designer;Developer, back-end;Developer, front-end;Developer, full-stack',\n",
       "       ...,\n",
       "       'Developer, full-stack;Developer, game or graphics;Developer, mobile;Marketing or sales professional;Product manager',\n",
       "       'Data or business analyst;Data scientist or machine learning specialist;Developer, full-stack;DevOps specialist;Engineer, data;Engineer, site reliability;Student',\n",
       "       'Developer, QA or test;Student;System administrator'], dtype=object)"
      ]
     },
     "execution_count": 4,
     "metadata": {},
     "output_type": "execute_result"
    }
   ],
   "source": [
    "#How participants describe their current jobs\n",
    "df[\"DevType\"].unique()"
   ]
  },
  {
   "cell_type": "markdown",
   "metadata": {},
   "source": [
    "It seems that a person can take multiple roles in their current jobs. Therefore, a data analyst or data scientist refers to the partipant who includes as least one of these two choices in the answer."
   ]
  },
  {
   "cell_type": "code",
   "execution_count": 5,
   "metadata": {},
   "outputs": [
    {
     "data": {
      "text/plain": [
       "0.1201017067380714"
      ]
     },
     "execution_count": 5,
     "metadata": {},
     "output_type": "execute_result"
    }
   ],
   "source": [
    "#The proportion of participants who is a data analyst or data scientist\n",
    "df[\"DevType\"].apply(lambda x: \"Data or business analyst\" in str(x) or \"Data scientist or machine learning specialist\" in str(x)).mean()"
   ]
  },
  {
   "cell_type": "markdown",
   "metadata": {},
   "source": [
    "# Data preparation"
   ]
  },
  {
   "cell_type": "code",
   "execution_count": 6,
   "metadata": {
    "scrolled": false
   },
   "outputs": [
    {
     "data": {
      "text/html": [
       "<div>\n",
       "<style scoped>\n",
       "    .dataframe tbody tr th:only-of-type {\n",
       "        vertical-align: middle;\n",
       "    }\n",
       "\n",
       "    .dataframe tbody tr th {\n",
       "        vertical-align: top;\n",
       "    }\n",
       "\n",
       "    .dataframe thead th {\n",
       "        text-align: right;\n",
       "    }\n",
       "</style>\n",
       "<table border=\"1\" class=\"dataframe\">\n",
       "  <thead>\n",
       "    <tr style=\"text-align: right;\">\n",
       "      <th></th>\n",
       "      <th>Respondent</th>\n",
       "      <th>MainBranch</th>\n",
       "      <th>Hobbyist</th>\n",
       "      <th>OpenSourcer</th>\n",
       "      <th>OpenSource</th>\n",
       "      <th>Employment</th>\n",
       "      <th>Country</th>\n",
       "      <th>Student</th>\n",
       "      <th>EdLevel</th>\n",
       "      <th>UndergradMajor</th>\n",
       "      <th>...</th>\n",
       "      <th>Age</th>\n",
       "      <th>Gender</th>\n",
       "      <th>Trans</th>\n",
       "      <th>Sexuality</th>\n",
       "      <th>Ethnicity</th>\n",
       "      <th>Dependents</th>\n",
       "      <th>SurveyLength</th>\n",
       "      <th>SurveyEase</th>\n",
       "      <th>Is_DAorBA</th>\n",
       "      <th>Is_DS</th>\n",
       "    </tr>\n",
       "  </thead>\n",
       "  <tbody>\n",
       "    <tr>\n",
       "      <td>0</td>\n",
       "      <td>1</td>\n",
       "      <td>I am a student who is learning to code</td>\n",
       "      <td>Yes</td>\n",
       "      <td>Never</td>\n",
       "      <td>The quality of OSS and closed source software ...</td>\n",
       "      <td>Not employed, and not looking for work</td>\n",
       "      <td>United Kingdom</td>\n",
       "      <td>No</td>\n",
       "      <td>Primary/elementary school</td>\n",
       "      <td>NaN</td>\n",
       "      <td>...</td>\n",
       "      <td>14.0</td>\n",
       "      <td>Man</td>\n",
       "      <td>No</td>\n",
       "      <td>Straight / Heterosexual</td>\n",
       "      <td>NaN</td>\n",
       "      <td>No</td>\n",
       "      <td>Appropriate in length</td>\n",
       "      <td>Neither easy nor difficult</td>\n",
       "      <td>0</td>\n",
       "      <td>0</td>\n",
       "    </tr>\n",
       "    <tr>\n",
       "      <td>1</td>\n",
       "      <td>2</td>\n",
       "      <td>I am a student who is learning to code</td>\n",
       "      <td>No</td>\n",
       "      <td>Less than once per year</td>\n",
       "      <td>The quality of OSS and closed source software ...</td>\n",
       "      <td>Not employed, but looking for work</td>\n",
       "      <td>Bosnia and Herzegovina</td>\n",
       "      <td>Yes, full-time</td>\n",
       "      <td>Secondary school (e.g. American high school, G...</td>\n",
       "      <td>NaN</td>\n",
       "      <td>...</td>\n",
       "      <td>19.0</td>\n",
       "      <td>Man</td>\n",
       "      <td>No</td>\n",
       "      <td>Straight / Heterosexual</td>\n",
       "      <td>NaN</td>\n",
       "      <td>No</td>\n",
       "      <td>Appropriate in length</td>\n",
       "      <td>Neither easy nor difficult</td>\n",
       "      <td>0</td>\n",
       "      <td>0</td>\n",
       "    </tr>\n",
       "    <tr>\n",
       "      <td>2</td>\n",
       "      <td>3</td>\n",
       "      <td>I am not primarily a developer, but I write co...</td>\n",
       "      <td>Yes</td>\n",
       "      <td>Never</td>\n",
       "      <td>The quality of OSS and closed source software ...</td>\n",
       "      <td>Employed full-time</td>\n",
       "      <td>Thailand</td>\n",
       "      <td>No</td>\n",
       "      <td>Bachelor’s degree (BA, BS, B.Eng., etc.)</td>\n",
       "      <td>Web development or web design</td>\n",
       "      <td>...</td>\n",
       "      <td>28.0</td>\n",
       "      <td>Man</td>\n",
       "      <td>No</td>\n",
       "      <td>Straight / Heterosexual</td>\n",
       "      <td>NaN</td>\n",
       "      <td>Yes</td>\n",
       "      <td>Appropriate in length</td>\n",
       "      <td>Neither easy nor difficult</td>\n",
       "      <td>0</td>\n",
       "      <td>0</td>\n",
       "    </tr>\n",
       "    <tr>\n",
       "      <td>3</td>\n",
       "      <td>4</td>\n",
       "      <td>I am a developer by profession</td>\n",
       "      <td>No</td>\n",
       "      <td>Never</td>\n",
       "      <td>The quality of OSS and closed source software ...</td>\n",
       "      <td>Employed full-time</td>\n",
       "      <td>United States</td>\n",
       "      <td>No</td>\n",
       "      <td>Bachelor’s degree (BA, BS, B.Eng., etc.)</td>\n",
       "      <td>Computer science, computer engineering, or sof...</td>\n",
       "      <td>...</td>\n",
       "      <td>22.0</td>\n",
       "      <td>Man</td>\n",
       "      <td>No</td>\n",
       "      <td>Straight / Heterosexual</td>\n",
       "      <td>White or of European descent</td>\n",
       "      <td>No</td>\n",
       "      <td>Appropriate in length</td>\n",
       "      <td>Easy</td>\n",
       "      <td>0</td>\n",
       "      <td>0</td>\n",
       "    </tr>\n",
       "    <tr>\n",
       "      <td>4</td>\n",
       "      <td>5</td>\n",
       "      <td>I am a developer by profession</td>\n",
       "      <td>Yes</td>\n",
       "      <td>Once a month or more often</td>\n",
       "      <td>OSS is, on average, of HIGHER quality than pro...</td>\n",
       "      <td>Employed full-time</td>\n",
       "      <td>Ukraine</td>\n",
       "      <td>No</td>\n",
       "      <td>Bachelor’s degree (BA, BS, B.Eng., etc.)</td>\n",
       "      <td>Computer science, computer engineering, or sof...</td>\n",
       "      <td>...</td>\n",
       "      <td>30.0</td>\n",
       "      <td>Man</td>\n",
       "      <td>No</td>\n",
       "      <td>Straight / Heterosexual</td>\n",
       "      <td>White or of European descent;Multiracial</td>\n",
       "      <td>No</td>\n",
       "      <td>Appropriate in length</td>\n",
       "      <td>Easy</td>\n",
       "      <td>0</td>\n",
       "      <td>0</td>\n",
       "    </tr>\n",
       "  </tbody>\n",
       "</table>\n",
       "<p>5 rows × 87 columns</p>\n",
       "</div>"
      ],
      "text/plain": [
       "   Respondent                                         MainBranch Hobbyist  \\\n",
       "0           1             I am a student who is learning to code      Yes   \n",
       "1           2             I am a student who is learning to code       No   \n",
       "2           3  I am not primarily a developer, but I write co...      Yes   \n",
       "3           4                     I am a developer by profession       No   \n",
       "4           5                     I am a developer by profession      Yes   \n",
       "\n",
       "                  OpenSourcer  \\\n",
       "0                       Never   \n",
       "1     Less than once per year   \n",
       "2                       Never   \n",
       "3                       Never   \n",
       "4  Once a month or more often   \n",
       "\n",
       "                                          OpenSource  \\\n",
       "0  The quality of OSS and closed source software ...   \n",
       "1  The quality of OSS and closed source software ...   \n",
       "2  The quality of OSS and closed source software ...   \n",
       "3  The quality of OSS and closed source software ...   \n",
       "4  OSS is, on average, of HIGHER quality than pro...   \n",
       "\n",
       "                               Employment                 Country  \\\n",
       "0  Not employed, and not looking for work          United Kingdom   \n",
       "1      Not employed, but looking for work  Bosnia and Herzegovina   \n",
       "2                      Employed full-time                Thailand   \n",
       "3                      Employed full-time           United States   \n",
       "4                      Employed full-time                 Ukraine   \n",
       "\n",
       "          Student                                            EdLevel  \\\n",
       "0              No                          Primary/elementary school   \n",
       "1  Yes, full-time  Secondary school (e.g. American high school, G...   \n",
       "2              No           Bachelor’s degree (BA, BS, B.Eng., etc.)   \n",
       "3              No           Bachelor’s degree (BA, BS, B.Eng., etc.)   \n",
       "4              No           Bachelor’s degree (BA, BS, B.Eng., etc.)   \n",
       "\n",
       "                                      UndergradMajor  ...   Age Gender Trans  \\\n",
       "0                                                NaN  ...  14.0    Man    No   \n",
       "1                                                NaN  ...  19.0    Man    No   \n",
       "2                      Web development or web design  ...  28.0    Man    No   \n",
       "3  Computer science, computer engineering, or sof...  ...  22.0    Man    No   \n",
       "4  Computer science, computer engineering, or sof...  ...  30.0    Man    No   \n",
       "\n",
       "                 Sexuality                                 Ethnicity  \\\n",
       "0  Straight / Heterosexual                                       NaN   \n",
       "1  Straight / Heterosexual                                       NaN   \n",
       "2  Straight / Heterosexual                                       NaN   \n",
       "3  Straight / Heterosexual              White or of European descent   \n",
       "4  Straight / Heterosexual  White or of European descent;Multiracial   \n",
       "\n",
       "  Dependents           SurveyLength                  SurveyEase Is_DAorBA  \\\n",
       "0         No  Appropriate in length  Neither easy nor difficult         0   \n",
       "1         No  Appropriate in length  Neither easy nor difficult         0   \n",
       "2        Yes  Appropriate in length  Neither easy nor difficult         0   \n",
       "3         No  Appropriate in length                        Easy         0   \n",
       "4         No  Appropriate in length                        Easy         0   \n",
       "\n",
       "  Is_DS  \n",
       "0     0  \n",
       "1     0  \n",
       "2     0  \n",
       "3     0  \n",
       "4     0  \n",
       "\n",
       "[5 rows x 87 columns]"
      ]
     },
     "execution_count": 6,
     "metadata": {},
     "output_type": "execute_result"
    }
   ],
   "source": [
    "#use two columns to specify the data analysts and data scientists\n",
    "df[\"Is_DAorBA\"] = df[\"DevType\"].apply(lambda x: 1 if \"Data or business analyst\" in str(x) else 0)\n",
    "df[\"Is_DS\"] = df[\"DevType\"].apply(lambda x: 1 if \"Data scientist or machine learning specialist\" in str(x) else 0)\n",
    "df.head()"
   ]
  },
  {
   "cell_type": "code",
   "execution_count": 7,
   "metadata": {
    "scrolled": true
   },
   "outputs": [
    {
     "name": "stdout",
     "output_type": "stream",
     "text": [
      "(6294, 87)\n",
      "(6460, 87)\n"
     ]
    }
   ],
   "source": [
    "#The number of data analysts and data scientists in this dataset\n",
    "print(df[df[\"Is_DAorBA\"] == 1].shape)\n",
    "print(df[df[\"Is_DS\"] == 1].shape)"
   ]
  },
  {
   "cell_type": "code",
   "execution_count": 8,
   "metadata": {},
   "outputs": [],
   "source": [
    "#df only includes those who are current \"data or business analyst\" or \"data scientist or machine learning specialist\"\n",
    "df = df.loc[(df.Is_DAorBA == 1) | (df.Is_DS == 1)]"
   ]
  },
  {
   "cell_type": "markdown",
   "metadata": {},
   "source": [
    "# The analysis"
   ]
  },
  {
   "cell_type": "markdown",
   "metadata": {},
   "source": [
    "## 1. What are the education backgrounds of these data analysts and data scientists?"
   ]
  },
  {
   "cell_type": "code",
   "execution_count": 9,
   "metadata": {},
   "outputs": [
    {
     "data": {
      "text/plain": [
       "array(['Bachelor’s degree (BA, BS, B.Eng., etc.)',\n",
       "       'Master’s degree (MA, MS, M.Eng., MBA, etc.)',\n",
       "       'Some college/university study without earning a degree',\n",
       "       'Secondary school (e.g. American high school, German Realschule or Gymnasium, etc.)',\n",
       "       'Associate degree', 'Other doctoral degree (Ph.D, Ed.D., etc.)',\n",
       "       'Professional degree (JD, MD, etc.)', 'Primary/elementary school',\n",
       "       nan, 'I never completed any formal education'], dtype=object)"
      ]
     },
     "execution_count": 9,
     "metadata": {},
     "output_type": "execute_result"
    }
   ],
   "source": [
    "#the educational levels to choose from\n",
    "df[\"EdLevel\"].unique()"
   ]
  },
  {
   "cell_type": "markdown",
   "metadata": {},
   "source": [
    "### Data or business analysts"
   ]
  },
  {
   "cell_type": "code",
   "execution_count": 10,
   "metadata": {},
   "outputs": [
    {
     "data": {
      "text/plain": [
       "Bachelor’s degree (BA, BS, B.Eng., etc.)                                              2680\n",
       "Master’s degree (MA, MS, M.Eng., MBA, etc.)                                           1780\n",
       "Some college/university study without earning a degree                                 673\n",
       "Secondary school (e.g. American high school, German Realschule or Gymnasium, etc.)     320\n",
       "Other doctoral degree (Ph.D, Ed.D., etc.)                                              266\n",
       "Associate degree                                                                       224\n",
       "Professional degree (JD, MD, etc.)                                                     121\n",
       "Primary/elementary school                                                               56\n",
       "I never completed any formal education                                                  51\n",
       "Name: EdLevel, dtype: int64"
      ]
     },
     "execution_count": 10,
     "metadata": {},
     "output_type": "execute_result"
    }
   ],
   "source": [
    "#Education level of data/ business analysts\n",
    "df[df[\"Is_DAorBA\"] == 1][\"EdLevel\"].value_counts()"
   ]
  },
  {
   "cell_type": "code",
   "execution_count": 11,
   "metadata": {},
   "outputs": [
    {
     "data": {
      "text/plain": [
       "Computer science, computer engineering, or software engineering          2728\n",
       "Information systems, information technology, or system administration     539\n",
       "Another engineering discipline (ex. civil, electrical, mechanical)        493\n",
       "Mathematics or statistics                                                 453\n",
       "A business discipline (ex. accounting, finance, marketing)                392\n",
       "A natural science (ex. biology, chemistry, physics)                       358\n",
       "A social science (ex. anthropology, psychology, political science)        223\n",
       "Web development or web design                                             169\n",
       "A humanities discipline (ex. literature, history, philosophy)             123\n",
       "Fine arts or performing arts (ex. graphic design, music, studio art)       71\n",
       "I never declared a major                                                   64\n",
       "A health science (ex. nursing, pharmacy, radiology)                        33\n",
       "Name: UndergradMajor, dtype: int64"
      ]
     },
     "execution_count": 11,
     "metadata": {},
     "output_type": "execute_result"
    }
   ],
   "source": [
    "#Undergraduate major of data/ business analysts\n",
    "df[df[\"Is_DAorBA\"] == 1][\"UndergradMajor\"].value_counts()"
   ]
  },
  {
   "cell_type": "code",
   "execution_count": 12,
   "metadata": {},
   "outputs": [
    {
     "data": {
      "image/png": "[encoded data removed]",
      "text/plain": [
       "<Figure size 432x288 with 1 Axes>"
      ]
     },
     "metadata": {},
     "output_type": "display_data"
    }
   ],
   "source": [
    "#visualize the result\n",
    "pie_da = {}\n",
    "pie_da[\"CS related\"] = 2728+539+169\n",
    "pie_da[\"Engineer (other) or Mathmatics\"] = 493+453\n",
    "pie_da[\"Business\"] = 392\n",
    "pie_da[\"Arts&Sciences\"] = 358+223+123+71\n",
    "pie_da[\"Others\"] = 64+33\n",
    "\n",
    "plt.pie(pie_da.values(), labels = pie_da.keys())\n",
    "plt.show()"
   ]
  },
  {
   "cell_type": "markdown",
   "metadata": {},
   "source": [
    "### Data scientist or machine learning specialist"
   ]
  },
  {
   "cell_type": "code",
   "execution_count": 13,
   "metadata": {},
   "outputs": [
    {
     "data": {
      "text/plain": [
       "Master’s degree (MA, MS, M.Eng., MBA, etc.)                                           2301\n",
       "Bachelor’s degree (BA, BS, B.Eng., etc.)                                              2261\n",
       "Other doctoral degree (Ph.D, Ed.D., etc.)                                              780\n",
       "Some college/university study without earning a degree                                 421\n",
       "Secondary school (e.g. American high school, German Realschule or Gymnasium, etc.)     336\n",
       "Associate degree                                                                       102\n",
       "Professional degree (JD, MD, etc.)                                                      74\n",
       "Primary/elementary school                                                               62\n",
       "I never completed any formal education                                                  34\n",
       "Name: EdLevel, dtype: int64"
      ]
     },
     "execution_count": 13,
     "metadata": {},
     "output_type": "execute_result"
    }
   ],
   "source": [
    "#Education level of data scentists\n",
    "df[df[\"Is_DS\"] == 1][\"EdLevel\"].value_counts()"
   ]
  },
  {
   "cell_type": "code",
   "execution_count": 14,
   "metadata": {},
   "outputs": [
    {
     "data": {
      "text/plain": [
       "Computer science, computer engineering, or software engineering          3066\n",
       "Mathematics or statistics                                                 749\n",
       "A natural science (ex. biology, chemistry, physics)                       671\n",
       "Another engineering discipline (ex. civil, electrical, mechanical)        558\n",
       "Information systems, information technology, or system administration     233\n",
       "A social science (ex. anthropology, psychology, political science)        169\n",
       "A business discipline (ex. accounting, finance, marketing)                151\n",
       "A humanities discipline (ex. literature, history, philosophy)              82\n",
       "Web development or web design                                              57\n",
       "Fine arts or performing arts (ex. graphic design, music, studio art)       36\n",
       "A health science (ex. nursing, pharmacy, radiology)                        36\n",
       "I never declared a major                                                   22\n",
       "Name: UndergradMajor, dtype: int64"
      ]
     },
     "execution_count": 14,
     "metadata": {},
     "output_type": "execute_result"
    }
   ],
   "source": [
    "#Undergraduate major of data scentists\n",
    "df[df[\"Is_DS\"] == 1][\"UndergradMajor\"].value_counts()"
   ]
  },
  {
   "cell_type": "code",
   "execution_count": 15,
   "metadata": {},
   "outputs": [
    {
     "data": {
      "image/png": "[encoded data removed]",
      "text/plain": [
       "<Figure size 432x288 with 1 Axes>"
      ]
     },
     "metadata": {},
     "output_type": "display_data"
    }
   ],
   "source": [
    "#visualize the result\n",
    "pie_ds = {}\n",
    "pie_ds[\"CS related\"] = 3066+233+57\n",
    "pie_ds[\"Engineer (other) or Mathmatics\"] = 749+558\n",
    "pie_ds[\"Business\"] = 151\n",
    "pie_ds[\"Arts&Sciences\"] = 671+169+82+36\n",
    "pie_ds[\"Others\"] = 36+22\n",
    "plt.pie(pie_ds.values(), labels = pie_ds.keys())\n",
    "plt.show()"
   ]
  },
  {
   "cell_type": "code",
   "execution_count": 16,
   "metadata": {},
   "outputs": [
    {
     "data": {
      "text/plain": [
       "Text(0.5, 1.0, 'Data Scentists')"
      ]
     },
     "execution_count": 16,
     "metadata": {},
     "output_type": "execute_result"
    },
    {
     "data": {
      "image/png": "[encoded data removed]",
      "text/plain": [
       "<Figure size 1008x432 with 2 Axes>"
      ]
     },
     "metadata": {},
     "output_type": "display_data"
    }
   ],
   "source": [
    "#plot two pie charts together\n",
    "fig, (ax0, ax1) = plt.subplots(ncols=2, figsize=(14,6))\n",
    "\n",
    "cmap = plt.get_cmap('Pastel2')\n",
    "colors = [cmap(i) for i in np.linspace(0, 1, 8)]\n",
    "\n",
    "ax0.pie(pie_da.values(), labels = pie_da.keys(), autopct='%1.1f%%', startangle=0, colors=colors, textprops={'fontsize': 12})\n",
    "ax0.set_title(\"Data Analysts\", fontsize=20)\n",
    "ax1.pie(pie_ds.values(), labels = pie_ds.keys(), autopct='%1.1f%%', startangle=0, colors=colors, textprops={'fontsize': 12})\n",
    "ax1.set_title(\"Data Scentists\", fontsize=20)"
   ]
  },
  {
   "cell_type": "markdown",
   "metadata": {},
   "source": [
    "## 2. For those who studied business, what help them to become a data analyst or data scientist?"
   ]
  },
  {
   "cell_type": "code",
   "execution_count": 17,
   "metadata": {},
   "outputs": [],
   "source": [
    "#only include those who had a business major\n",
    "df_subset = df[df[\"UndergradMajor\"] == \"A business discipline (ex. accounting, finance, marketing)\"]"
   ]
  },
  {
   "cell_type": "code",
   "execution_count": 18,
   "metadata": {},
   "outputs": [
    {
     "data": {
      "text/plain": [
       "{'Taken an online course in programming or software development (e.g. a MOOC)': 319,\n",
       " 'Completed an industry certification program (e.g. MCPD)': 63,\n",
       " 'Received on-the-job training in software development': 140,\n",
       " 'Taught yourself a new language, framework, or tool without taking a formal course': 372,\n",
       " 'Taken a part-time in-person course in programming or software development': 95,\n",
       " 'Participated in online coding competitions (e.g. HackerRank, CodeChef, TopCoder)': 70,\n",
       " 'Participated in a full-time developer training program or bootcamp': 67,\n",
       " 'Participated in a hackathon': 60,\n",
       " 'Contributed to open source software': 110}"
      ]
     },
     "execution_count": 18,
     "metadata": {},
     "output_type": "execute_result"
    }
   ],
   "source": [
    "#A person can include multiple choices in an answer.\n",
    "#Split the answers and count the unique choices:\n",
    "edu_counts = {}\n",
    "for index, row in df_subset.iterrows():\n",
    "    if type(row[\"EduOther\"]) == str:\n",
    "        for i in row[\"EduOther\"].split(\";\"):\n",
    "            if i in edu_counts.keys():\n",
    "                edu_counts[i] += 1\n",
    "            else:\n",
    "                edu_counts[i] = 1\n",
    "edu_counts"
   ]
  },
  {
   "cell_type": "code",
   "execution_count": 19,
   "metadata": {},
   "outputs": [
    {
     "data": {
      "text/plain": [
       "([<matplotlib.axis.YTick at 0x1a24061e808>,\n",
       "  <matplotlib.axis.YTick at 0x1a24061af48>,\n",
       "  <matplotlib.axis.YTick at 0x1a23fe89fc8>,\n",
       "  <matplotlib.axis.YTick at 0x1a24065c248>,\n",
       "  <matplotlib.axis.YTick at 0x1a24065cb08>,\n",
       "  <matplotlib.axis.YTick at 0x1a2406623c8>,\n",
       "  <matplotlib.axis.YTick at 0x1a240662d48>,\n",
       "  <matplotlib.axis.YTick at 0x1a2406656c8>,\n",
       "  <matplotlib.axis.YTick at 0x1a24065cc08>],\n",
       " <a list of 9 Text yticklabel objects>)"
      ]
     },
     "execution_count": 19,
     "metadata": {},
     "output_type": "execute_result"
    },
    {
     "data": {
      "image/png": "[encoded data removed]",
      "text/plain": [
       "<Figure size 432x288 with 1 Axes>"
      ]
     },
     "metadata": {
      "needs_background": "light"
     },
     "output_type": "display_data"
    }
   ],
   "source": [
    "#visual the result\n",
    "plt.barh(range(len(edu_counts)), list(edu_counts.values()), align='center', color=[cmap(2)]+[cmap(0)]*2+[cmap(2)]+[cmap(0)]*5)\n",
    "plt.yticks(range(len(edu_counts)), list(edu_counts.keys()), fontsize = 12)"
   ]
  },
  {
   "cell_type": "markdown",
   "metadata": {},
   "source": [
    "## 3. What technologies do data analysts or data scientists prefer in their companies?"
   ]
  },
  {
   "cell_type": "code",
   "execution_count": 20,
   "metadata": {},
   "outputs": [],
   "source": [
    "def count_answers(df, col_name):\n",
    "    '''\n",
    "    For some questions, people can choose more than one answer.\n",
    "    This function will count the each unique answer from a row in a certain column.\n",
    "    input: df - the dataframe, col_name - the column that has more than one answer in a row\n",
    "    output: a dictionary counts the number of different answers (sorted desc)\n",
    "    '''\n",
    "    col_d = {}\n",
    "    for index, row in df.iterrows():\n",
    "        if type(row[col_name]) == str:\n",
    "            for i in row[col_name].split(\";\"):\n",
    "                if i in col_d.keys():\n",
    "                    col_d[i] += 1\n",
    "                else:\n",
    "                    col_d[i] = 1\n",
    "    return sorted(col_d.items(), key=lambda x: x[1], reverse=True)"
   ]
  },
  {
   "cell_type": "code",
   "execution_count": 21,
   "metadata": {},
   "outputs": [
    {
     "data": {
      "text/plain": [
       "[('Python', 6995),\n",
       " ('SQL', 5299),\n",
       " ('JavaScript', 4599),\n",
       " ('HTML/CSS', 3864),\n",
       " ('Bash/Shell/PowerShell', 3116),\n",
       " ('R', 2647),\n",
       " ('C#', 2478),\n",
       " ('Java', 2444),\n",
       " ('C++', 2264),\n",
       " ('TypeScript', 1951),\n",
       " ('Go', 1843),\n",
       " ('C', 1381),\n",
       " ('PHP', 1337),\n",
       " ('Other(s):', 1282),\n",
       " ('Scala', 1241),\n",
       " ('Rust', 1156),\n",
       " ('Kotlin', 1117),\n",
       " ('WebAssembly', 823),\n",
       " ('Swift', 822),\n",
       " ('Ruby', 726),\n",
       " ('Assembly', 561),\n",
       " ('VBA', 545),\n",
       " ('Dart', 440),\n",
       " ('F#', 437),\n",
       " ('Clojure', 368),\n",
       " ('Objective-C', 357),\n",
       " ('Elixir', 333),\n",
       " ('Erlang', 297)]"
      ]
     },
     "execution_count": 21,
     "metadata": {},
     "output_type": "execute_result"
    }
   ],
   "source": [
    "#count the answers to the question \"programming language that you desire to use the next year\"\n",
    "count_answers(df, \"LanguageDesireNextYear\")"
   ]
  },
  {
   "cell_type": "code",
   "execution_count": 22,
   "metadata": {},
   "outputs": [
    {
     "data": {
      "text/plain": [
       "[('PostgreSQL', 3678),\n",
       " ('MySQL', 3366),\n",
       " ('MongoDB', 3002),\n",
       " ('Microsoft SQL Server', 2633),\n",
       " ('SQLite', 2555),\n",
       " ('Elasticsearch', 2052),\n",
       " ('Redis', 1905),\n",
       " ('Oracle', 1287),\n",
       " ('MariaDB', 1284),\n",
       " ('Firebase', 1247),\n",
       " ('Cassandra', 1015),\n",
       " ('Other(s):', 859),\n",
       " ('DynamoDB', 810),\n",
       " ('Couchbase', 373)]"
      ]
     },
     "execution_count": 22,
     "metadata": {},
     "output_type": "execute_result"
    }
   ],
   "source": [
    "#count the answers to the question \"database that you desire to use the next year\"\n",
    "count_answers(df, \"DatabaseDesireNextYear\")"
   ]
  },
  {
   "cell_type": "code",
   "execution_count": 23,
   "metadata": {
    "scrolled": true
   },
   "outputs": [
    {
     "data": {
      "text/plain": [
       "[('TensorFlow', 4406),\n",
       " ('Pandas', 3646),\n",
       " ('Node.js', 3172),\n",
       " ('Torch/PyTorch', 2424),\n",
       " ('Apache Spark', 2152),\n",
       " ('.NET', 1910),\n",
       " ('Hadoop', 1872),\n",
       " ('.NET Core', 1813),\n",
       " ('React Native', 1371),\n",
       " ('Unity 3D', 1213),\n",
       " ('Xamarin', 768),\n",
       " ('Ansible', 744),\n",
       " ('Unreal Engine', 738),\n",
       " ('Flutter', 695),\n",
       " ('Other(s):', 537),\n",
       " ('Cordova', 448),\n",
       " ('Chef', 300),\n",
       " ('Puppet', 294),\n",
       " ('CryEngine', 202)]"
      ]
     },
     "execution_count": 23,
     "metadata": {},
     "output_type": "execute_result"
    }
   ],
   "source": [
    "#count the answers to the question \"frameworks, libraries, and tools that you desire to use the next year\"\n",
    "count_answers(df, \"MiscTechDesireNextYear\")"
   ]
  },
  {
   "cell_type": "code",
   "execution_count": 24,
   "metadata": {},
   "outputs": [
    {
     "data": {
      "text/plain": [
       "[('Visual Studio Code', 4581),\n",
       " ('Notepad++', 3762),\n",
       " ('IPython / Jupyter', 3522),\n",
       " ('Visual Studio', 3256),\n",
       " ('Vim', 2857),\n",
       " ('Sublime Text', 2695),\n",
       " ('PyCharm', 2609),\n",
       " ('IntelliJ', 2341),\n",
       " ('RStudio', 1785),\n",
       " ('Atom', 1716),\n",
       " ('Eclipse', 1650),\n",
       " ('Android Studio', 1496),\n",
       " ('Xcode', 804),\n",
       " ('NetBeans', 737),\n",
       " ('PHPStorm', 637),\n",
       " ('Emacs', 632),\n",
       " ('Coda', 182),\n",
       " ('RubyMine', 149),\n",
       " ('TextMate', 148),\n",
       " ('Komodo', 110),\n",
       " ('Zend', 98),\n",
       " ('Light Table', 68)]"
      ]
     },
     "execution_count": 24,
     "metadata": {},
     "output_type": "execute_result"
    }
   ],
   "source": [
    "#count the answers to the question \"development environment that you use regularly\"\n",
    "count_answers(df, \"DevEnviron\")"
   ]
  },
  {
   "cell_type": "markdown",
   "metadata": {},
   "source": [
    "## 4. What kinds of interview would be like?"
   ]
  },
  {
   "cell_type": "code",
   "execution_count": 25,
   "metadata": {},
   "outputs": [
    {
     "data": {
      "text/plain": [
       "[('Interview with people in senior / management roles', 7062),\n",
       " ('Interview with people in peer roles', 5190),\n",
       " ('Write any code', 2861),\n",
       " ('Write code by hand (e.g., on a whiteboard)', 2083),\n",
       " ('Complete a take-home project', 1937),\n",
       " ('Solve a brain-teaser style puzzle', 1918)]"
      ]
     },
     "execution_count": 25,
     "metadata": {},
     "output_type": "execute_result"
    }
   ],
   "source": [
    "count_answers(df, \"LastInt\")"
   ]
  },
  {
   "cell_type": "markdown",
   "metadata": {},
   "source": [
    "## 5. What factors do these data analysts and data scientists care the most when choosing jobs?"
   ]
  },
  {
   "cell_type": "code",
   "execution_count": 26,
   "metadata": {},
   "outputs": [
    {
     "data": {
      "text/plain": [
       "20 to 99 employees                                    1630\n",
       "10,000 or more employees                              1515\n",
       "100 to 499 employees                                  1444\n",
       "2-9 employees                                         1038\n",
       "1,000 to 4,999 employees                              1026\n",
       "10 to 19 employees                                     832\n",
       "Just me - I am a freelancer, sole proprietor, etc.     689\n",
       "500 to 999 employees                                   568\n",
       "5,000 to 9,999 employees                               482\n",
       "Name: OrgSize, dtype: int64"
      ]
     },
     "execution_count": 26,
     "metadata": {},
     "output_type": "execute_result"
    }
   ],
   "source": [
    "#organization size for both roles\n",
    "df[\"OrgSize\"].value_counts()"
   ]
  },
  {
   "cell_type": "code",
   "execution_count": 27,
   "metadata": {},
   "outputs": [
    {
     "data": {
      "text/plain": [
       "20 to 99 employees                                    982\n",
       "100 to 499 employees                                  892\n",
       "10,000 or more employees                              841\n",
       "2-9 employees                                         631\n",
       "1,000 to 4,999 employees                              599\n",
       "Just me - I am a freelancer, sole proprietor, etc.    481\n",
       "10 to 19 employees                                    477\n",
       "500 to 999 employees                                  363\n",
       "5,000 to 9,999 employees                              295\n",
       "Name: OrgSize, dtype: int64"
      ]
     },
     "execution_count": 27,
     "metadata": {},
     "output_type": "execute_result"
    }
   ],
   "source": [
    "#organization size for data analysts\n",
    "df[df[\"Is_DAorBA\"] == 1][\"OrgSize\"].value_counts()"
   ]
  },
  {
   "cell_type": "code",
   "execution_count": 28,
   "metadata": {},
   "outputs": [
    {
     "data": {
      "text/plain": [
       "10,000 or more employees                              975\n",
       "20 to 99 employees                                    944\n",
       "100 to 499 employees                                  818\n",
       "1,000 to 4,999 employees                              613\n",
       "2-9 employees                                         597\n",
       "10 to 19 employees                                    501\n",
       "Just me - I am a freelancer, sole proprietor, etc.    372\n",
       "500 to 999 employees                                  317\n",
       "5,000 to 9,999 employees                              288\n",
       "Name: OrgSize, dtype: int64"
      ]
     },
     "execution_count": 28,
     "metadata": {},
     "output_type": "execute_result"
    }
   ],
   "source": [
    "#organization size for data scientists\n",
    "df[df[\"Is_DS\"] == 1][\"OrgSize\"].value_counts()"
   ]
  },
  {
   "cell_type": "code",
   "execution_count": 29,
   "metadata": {},
   "outputs": [
    {
     "data": {
      "text/plain": [
       "Languages, frameworks, and other technologies I'd be working with;Remote work options;Flex time or a flexible schedule                                472\n",
       "Office environment or company culture;Opportunities for professional development;Flex time or a flexible schedule                                     468\n",
       "Languages, frameworks, and other technologies I'd be working with;Office environment or company culture;Opportunities for professional development    462\n",
       "Languages, frameworks, and other technologies I'd be working with;Office environment or company culture;Flex time or a flexible schedule              415\n",
       "Office environment or company culture;Opportunities for professional development;How widely used or impactful my work output would be                 353\n",
       "                                                                                                                                                     ... \n",
       "Office environment or company culture;Diversity of the company or organization                                                                          1\n",
       "Remote work options;Diversity of the company or organization                                                                                            1\n",
       "Specific department or team I'd be working on;Flex time or a flexible schedule                                                                          1\n",
       "Specific department or team I'd be working on;Diversity of the company or organization                                                                  1\n",
       "Opportunities for professional development;Diversity of the company or organization                                                                     1\n",
       "Name: JobFactors, Length: 168, dtype: int64"
      ]
     },
     "execution_count": 29,
     "metadata": {},
     "output_type": "execute_result"
    }
   ],
   "source": [
    "#job factors to consider\n",
    "df[\"JobFactors\"].value_counts()"
   ]
  },
  {
   "cell_type": "code",
   "execution_count": 30,
   "metadata": {},
   "outputs": [
    {
     "data": {
      "text/plain": [
       "[('Office environment or company culture', 4597),\n",
       " ('Opportunities for professional development', 4593),\n",
       " (\"Languages, frameworks, and other technologies I'd be working with\", 4534),\n",
       " ('Flex time or a flexible schedule', 4398),\n",
       " ('Remote work options', 3044),\n",
       " ('How widely used or impactful my work output would be', 3006),\n",
       " (\"Industry that I'd be working in\", 1789),\n",
       " (\"Specific department or team I'd be working on\", 1596),\n",
       " ('Financial performance or funding status of the company or organization',\n",
       "  1501),\n",
       " ('Diversity of the company or organization', 757)]"
      ]
     },
     "execution_count": 30,
     "metadata": {},
     "output_type": "execute_result"
    }
   ],
   "source": [
    "#count the unique answers\n",
    "count_answers(df, \"JobFactors\")"
   ]
  }
 ],
 "metadata": {
  "kernelspec": {
   "display_name": "Python 3",
   "language": "python",
   "name": "python3"
  },
  "language_info": {
   "codemirror_mode": {
    "name": "ipython",
    "version": 3
   },
   "file_extension": ".py",
   "mimetype": "text/x-python",
   "name": "python",
   "nbconvert_exporter": "python",
   "pygments_lexer": "ipython3",
   "version": "3.7.4"
  }
 },
 "nbformat": 4,
 "nbformat_minor": 2
}